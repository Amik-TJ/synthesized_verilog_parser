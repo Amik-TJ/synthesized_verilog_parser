{
 "cells": [
  {
   "cell_type": "code",
   "execution_count": 45,
   "id": "initial_id",
   "metadata": {
    "ExecuteTime": {
     "end_time": "2024-01-23T14:48:16.651866962Z",
     "start_time": "2024-01-23T14:48:16.379112119Z"
    }
   },
   "outputs": [
    {
     "data": {
      "text/plain": [
       "'/home/amik/E-Drive/McGill/PhD/timing_estimation/synthesized_verilog_parser/note_books'"
      ]
     },
     "execution_count": 45,
     "metadata": {},
     "output_type": "execute_result"
    }
   ],
   "source": [
    "import sys\n",
    "import json\n",
    "import pandas as pd\n",
    "import numpy as np\n",
    "import numbers\n",
    "from collections import OrderedDict\n",
    "from sklearn.preprocessing import MinMaxScaler\n",
    "%pwd"
   ]
  },
  {
   "cell_type": "markdown",
   "id": "ad90d2eeb6aeb2b9",
   "metadata": {
    "collapsed": false
   },
   "source": [
    "## Reading File"
   ]
  },
  {
   "cell_type": "code",
   "execution_count": 46,
   "id": "74a911af0ff29a48",
   "metadata": {
    "ExecuteTime": {
     "end_time": "2024-01-23T14:32:17.322788851Z",
     "start_time": "2024-01-23T14:32:17.319648727Z"
    },
    "collapsed": false
   },
   "outputs": [],
   "source": [
    "# File Path:\n",
    "file_that_contains_the_node_feature = \"/home/amik/E-Drive/McGill/PhD/timing_estimation/synthesized_verilog_parser/data/outputs/tsmc_180_slow_parsed_library_file.json\"\n",
    "preprocessed_node_features_csv_file = \"/home/amik/E-Drive/McGill/PhD/timing_estimation/synthesized_verilog_parser/data/outputs/tsmc_180_slow_preprocessed.xlsx\"\n",
    "\n",
    "\n",
    "\n",
    "\n",
    "column_names_that_contain_function_names = ['A_function', 'BRB_function', 'CO0N_function', 'CO0_function',\n",
    "       'CO1N_function', 'CO1_function', 'CON_function', 'CO_function',\n",
    "       'ICO_function', 'PP_function', 'QN_function', 'Q_function',\n",
    "       'S_function', 'X2_function', 'Y_function', 'cell_footprint']\n",
    "\n",
    "\n",
    "\n",
    "def read_file(file_path):\n",
    "    with open(file_path, 'r') as file:\n",
    "        data = json.load(file)\n",
    "    return data\n",
    "\n",
    "node_feature_json_dict = read_file(file_that_contains_the_node_feature)"
   ]
  },
  {
   "cell_type": "markdown",
   "id": "84b64ab66c456d27",
   "metadata": {
    "collapsed": false
   },
   "source": [
    "## Collect Column Names"
   ]
  },
  {
   "cell_type": "code",
   "execution_count": 47,
   "id": "43ccac25164e9926",
   "metadata": {
    "ExecuteTime": {
     "end_time": "2024-01-23T14:32:19.384615649Z",
     "start_time": "2024-01-23T14:32:19.382688091Z"
    },
    "collapsed": false
   },
   "outputs": [],
   "source": [
    "gate_names = node_feature_json_dict.keys()\n",
    "column_names = []\n",
    "\n",
    "for gate in gate_names:\n",
    "    gate_feature_names = list(node_feature_json_dict[gate].keys())\n",
    "    gate_feature_names.remove('pins')\n",
    "    \n",
    "    # Adding all features except the pins\n",
    "    for feature_name in gate_feature_names:\n",
    "        if feature_name not in column_names:\n",
    "            column_names.append(feature_name)\n",
    "    \n",
    "    \n",
    "    # Adding pin features\n",
    "    pins = node_feature_json_dict[gate]['pins']\n",
    "    pin_names = pins.keys()\n",
    "    \n",
    "    for pin_name in pin_names:\n",
    "        pin_feature_names = list(pins[pin_name].keys())\n",
    "        pin_feature_names = [ pin_name + '_' + feature_name  for feature_name in pin_feature_names]\n",
    "        \n",
    "        \n",
    "        for pin_feature_name in pin_feature_names:\n",
    "            if pin_feature_name not in column_names:\n",
    "                column_names.append(pin_feature_name)\n",
    "       \n",
    "       \n",
    "column_names.append('gate_name')\n",
    "column_names.sort()"
   ]
  },
  {
   "cell_type": "markdown",
   "id": "864c5c842dd4bd0f",
   "metadata": {
    "collapsed": false
   },
   "source": [
    "## Add Column Features"
   ]
  },
  {
   "cell_type": "code",
   "execution_count": 48,
   "id": "8055d79b0a746793",
   "metadata": {
    "ExecuteTime": {
     "end_time": "2024-01-23T14:32:20.964472244Z",
     "start_time": "2024-01-23T14:32:20.961672438Z"
    },
    "collapsed": false
   },
   "outputs": [],
   "source": [
    "# Initialize an empty DataFrame with specified column names\n",
    "df = pd.DataFrame(columns=column_names)\n",
    "\n",
    "\n",
    "def convert_to_float(val):\n",
    "    if isinstance(val, str) and val.replace('.', '', 1).isdigit():\n",
    "        val = float(val)\n",
    "    if isinstance(val,numbers.Number):\n",
    "        val = float(val)\n",
    "    return val"
   ]
  },
  {
   "cell_type": "code",
   "execution_count": 49,
   "id": "5f6faaba56d70413",
   "metadata": {
    "ExecuteTime": {
     "end_time": "2024-01-23T14:32:23.462475240Z",
     "start_time": "2024-01-23T14:32:22.611344275Z"
    },
    "collapsed": false
   },
   "outputs": [
    {
     "name": "stderr",
     "output_type": "stream",
     "text": [
      "/tmp/ipykernel_14560/3038178683.py:44: FutureWarning: The behavior of DataFrame concatenation with empty or all-NA entries is deprecated. In a future version, this will no longer exclude empty or all-NA columns when determining the result dtypes. To retain the old behavior, exclude the relevant entries before the concat operation.\n",
      "  df = pd.concat([df, pd.DataFrame([sorted_row_dict])], ignore_index=True)\n"
     ]
    }
   ],
   "source": [
    "\n",
    "for gate in gate_names:\n",
    "    \n",
    "    row_dict = {}\n",
    "    row_dict['gate_name'] = gate\n",
    "    gate_features = node_feature_json_dict[gate]\n",
    "    \n",
    "    \n",
    "    # Adding gate features except the pins features\n",
    "    gate_feature_names = list(gate_features.keys())\n",
    "    gate_feature_names.remove('pins')\n",
    "    for gate_feature_name in gate_feature_names:\n",
    "        row_dict[gate_feature_name] = convert_to_float(gate_features[gate_feature_name])\n",
    "        \n",
    "    \n",
    "    \n",
    "    # Adding pins features\n",
    "    pins = gate_features['pins']\n",
    "    pin_names = pins.keys()\n",
    "   \n",
    "\n",
    "    for pin_name in pin_names:\n",
    "        pin_features = pins[pin_name]\n",
    "        pin_feature_names = list(pin_features.keys())\n",
    "        renamed_pin_feature_names = [ pin_name + '_' + feature_name  for feature_name in pin_feature_names]\n",
    "        \n",
    "        for pin_feature_name in pin_feature_names:\n",
    "            \n",
    "            # Label encoding for pin direction. Output = 0, Input 1\n",
    "            if 'direction' in pin_feature_name:\n",
    "                pin_features[pin_feature_name] = 0 if pin_features[pin_feature_name] == 'output' else 1\n",
    "            row_dict[pin_name + '_' + pin_feature_name] = convert_to_float(pin_features[pin_feature_name])\n",
    "\n",
    "\n",
    "    # Adding zeros to the columns that donot belog to this gate\n",
    "    row_actual_feature_names = list(row_dict.keys())\n",
    "    for column_name in column_names:\n",
    "        if column_name not in row_actual_feature_names:\n",
    "            row_dict[column_name] = 0.0\n",
    "        \n",
    "    # Sort row_dict by keys\n",
    "    sorted_row_dict = OrderedDict(sorted(row_dict.items()))\n",
    "    \n",
    "    # Append the sorted dictionary to the DataFrame\n",
    "    df = pd.concat([df, pd.DataFrame([sorted_row_dict])], ignore_index=True)\n"
   ]
  },
  {
   "cell_type": "code",
   "execution_count": 50,
   "id": "6ef061e2631f62f9",
   "metadata": {
    "ExecuteTime": {
     "end_time": "2024-01-23T14:32:23.897659165Z",
     "start_time": "2024-01-23T14:32:23.889751707Z"
    },
    "collapsed": false
   },
   "outputs": [
    {
     "data": {
      "text/html": [
       "<div>\n",
       "<style scoped>\n",
       "    .dataframe tbody tr th:only-of-type {\n",
       "        vertical-align: middle;\n",
       "    }\n",
       "\n",
       "    .dataframe tbody tr th {\n",
       "        vertical-align: top;\n",
       "    }\n",
       "\n",
       "    .dataframe thead th {\n",
       "        text-align: right;\n",
       "    }\n",
       "</style>\n",
       "<table border=\"1\" class=\"dataframe\">\n",
       "  <thead>\n",
       "    <tr style=\"text-align: right;\">\n",
       "      <th></th>\n",
       "      <th>A0N_capacitance</th>\n",
       "      <th>A0N_direction</th>\n",
       "      <th>A0_capacitance</th>\n",
       "      <th>A0_direction</th>\n",
       "      <th>A1N_capacitance</th>\n",
       "      <th>A1N_direction</th>\n",
       "      <th>A1_capacitance</th>\n",
       "      <th>A1_direction</th>\n",
       "      <th>A2_capacitance</th>\n",
       "      <th>A2_direction</th>\n",
       "      <th>...</th>\n",
       "      <th>Y_capacitance</th>\n",
       "      <th>Y_direction</th>\n",
       "      <th>Y_function</th>\n",
       "      <th>Y_max_capacitance</th>\n",
       "      <th>Y_number_of_gates</th>\n",
       "      <th>area</th>\n",
       "      <th>cell_footprint</th>\n",
       "      <th>cell_leakage_power</th>\n",
       "      <th>gate_name</th>\n",
       "      <th>total_number_of_gates_in_block</th>\n",
       "    </tr>\n",
       "  </thead>\n",
       "  <tbody>\n",
       "    <tr>\n",
       "      <th>0</th>\n",
       "      <td>0.0</td>\n",
       "      <td>0.0</td>\n",
       "      <td>0.0</td>\n",
       "      <td>0.0</td>\n",
       "      <td>0.0</td>\n",
       "      <td>0.0</td>\n",
       "      <td>0.0</td>\n",
       "      <td>0.0</td>\n",
       "      <td>0.0</td>\n",
       "      <td>0.0</td>\n",
       "      <td>...</td>\n",
       "      <td>0.0</td>\n",
       "      <td>0.0</td>\n",
       "      <td>0.0</td>\n",
       "      <td>0.0</td>\n",
       "      <td>0.0</td>\n",
       "      <td>76.5072</td>\n",
       "      <td>addfh</td>\n",
       "      <td>4104.18252</td>\n",
       "      <td>ADDFHX1</td>\n",
       "      <td>6.0</td>\n",
       "    </tr>\n",
       "    <tr>\n",
       "      <th>1</th>\n",
       "      <td>0.0</td>\n",
       "      <td>0.0</td>\n",
       "      <td>0.0</td>\n",
       "      <td>0.0</td>\n",
       "      <td>0.0</td>\n",
       "      <td>0.0</td>\n",
       "      <td>0.0</td>\n",
       "      <td>0.0</td>\n",
       "      <td>0.0</td>\n",
       "      <td>0.0</td>\n",
       "      <td>...</td>\n",
       "      <td>0.0</td>\n",
       "      <td>0.0</td>\n",
       "      <td>0.0</td>\n",
       "      <td>0.0</td>\n",
       "      <td>0.0</td>\n",
       "      <td>113.0976</td>\n",
       "      <td>addfh</td>\n",
       "      <td>7522.90416</td>\n",
       "      <td>ADDFHX2</td>\n",
       "      <td>6.0</td>\n",
       "    </tr>\n",
       "    <tr>\n",
       "      <th>2</th>\n",
       "      <td>0.0</td>\n",
       "      <td>0.0</td>\n",
       "      <td>0.0</td>\n",
       "      <td>0.0</td>\n",
       "      <td>0.0</td>\n",
       "      <td>0.0</td>\n",
       "      <td>0.0</td>\n",
       "      <td>0.0</td>\n",
       "      <td>0.0</td>\n",
       "      <td>0.0</td>\n",
       "      <td>...</td>\n",
       "      <td>0.0</td>\n",
       "      <td>0.0</td>\n",
       "      <td>0.0</td>\n",
       "      <td>0.0</td>\n",
       "      <td>0.0</td>\n",
       "      <td>116.4240</td>\n",
       "      <td>addfh</td>\n",
       "      <td>8036.73090</td>\n",
       "      <td>ADDFHX4</td>\n",
       "      <td>6.0</td>\n",
       "    </tr>\n",
       "    <tr>\n",
       "      <th>3</th>\n",
       "      <td>0.0</td>\n",
       "      <td>0.0</td>\n",
       "      <td>0.0</td>\n",
       "      <td>0.0</td>\n",
       "      <td>0.0</td>\n",
       "      <td>0.0</td>\n",
       "      <td>0.0</td>\n",
       "      <td>0.0</td>\n",
       "      <td>0.0</td>\n",
       "      <td>0.0</td>\n",
       "      <td>...</td>\n",
       "      <td>0.0</td>\n",
       "      <td>0.0</td>\n",
       "      <td>0.0</td>\n",
       "      <td>0.0</td>\n",
       "      <td>0.0</td>\n",
       "      <td>73.1808</td>\n",
       "      <td>addfh</td>\n",
       "      <td>3398.98032</td>\n",
       "      <td>ADDFHXL</td>\n",
       "      <td>6.0</td>\n",
       "    </tr>\n",
       "    <tr>\n",
       "      <th>4</th>\n",
       "      <td>0.0</td>\n",
       "      <td>0.0</td>\n",
       "      <td>0.0</td>\n",
       "      <td>0.0</td>\n",
       "      <td>0.0</td>\n",
       "      <td>0.0</td>\n",
       "      <td>0.0</td>\n",
       "      <td>0.0</td>\n",
       "      <td>0.0</td>\n",
       "      <td>0.0</td>\n",
       "      <td>...</td>\n",
       "      <td>0.0</td>\n",
       "      <td>0.0</td>\n",
       "      <td>0.0</td>\n",
       "      <td>0.0</td>\n",
       "      <td>0.0</td>\n",
       "      <td>69.8544</td>\n",
       "      <td>addf</td>\n",
       "      <td>3632.35914</td>\n",
       "      <td>ADDFX1</td>\n",
       "      <td>6.0</td>\n",
       "    </tr>\n",
       "  </tbody>\n",
       "</table>\n",
       "<p>5 rows × 181 columns</p>\n",
       "</div>"
      ],
      "text/plain": [
       "   A0N_capacitance  A0N_direction  A0_capacitance  A0_direction  \\\n",
       "0              0.0            0.0             0.0           0.0   \n",
       "1              0.0            0.0             0.0           0.0   \n",
       "2              0.0            0.0             0.0           0.0   \n",
       "3              0.0            0.0             0.0           0.0   \n",
       "4              0.0            0.0             0.0           0.0   \n",
       "\n",
       "   A1N_capacitance  A1N_direction  A1_capacitance  A1_direction  \\\n",
       "0              0.0            0.0             0.0           0.0   \n",
       "1              0.0            0.0             0.0           0.0   \n",
       "2              0.0            0.0             0.0           0.0   \n",
       "3              0.0            0.0             0.0           0.0   \n",
       "4              0.0            0.0             0.0           0.0   \n",
       "\n",
       "   A2_capacitance  A2_direction  ...  Y_capacitance  Y_direction  Y_function  \\\n",
       "0             0.0           0.0  ...            0.0          0.0         0.0   \n",
       "1             0.0           0.0  ...            0.0          0.0         0.0   \n",
       "2             0.0           0.0  ...            0.0          0.0         0.0   \n",
       "3             0.0           0.0  ...            0.0          0.0         0.0   \n",
       "4             0.0           0.0  ...            0.0          0.0         0.0   \n",
       "\n",
       "   Y_max_capacitance Y_number_of_gates      area  cell_footprint  \\\n",
       "0                0.0               0.0   76.5072           addfh   \n",
       "1                0.0               0.0  113.0976           addfh   \n",
       "2                0.0               0.0  116.4240           addfh   \n",
       "3                0.0               0.0   73.1808           addfh   \n",
       "4                0.0               0.0   69.8544            addf   \n",
       "\n",
       "   cell_leakage_power  gate_name  total_number_of_gates_in_block  \n",
       "0          4104.18252    ADDFHX1                             6.0  \n",
       "1          7522.90416    ADDFHX2                             6.0  \n",
       "2          8036.73090    ADDFHX4                             6.0  \n",
       "3          3398.98032    ADDFHXL                             6.0  \n",
       "4          3632.35914     ADDFX1                             6.0  \n",
       "\n",
       "[5 rows x 181 columns]"
      ]
     },
     "execution_count": 50,
     "metadata": {},
     "output_type": "execute_result"
    }
   ],
   "source": [
    "df.head()"
   ]
  },
  {
   "cell_type": "markdown",
   "id": "9b87f913bf114667",
   "metadata": {
    "collapsed": false
   },
   "source": [
    "## Feature Engineering - Dealing with categorical values"
   ]
  },
  {
   "cell_type": "code",
   "execution_count": 51,
   "id": "4ee1450408f9eb90",
   "metadata": {
    "ExecuteTime": {
     "end_time": "2024-01-23T14:32:28.202304318Z",
     "start_time": "2024-01-23T14:32:28.194929126Z"
    },
    "collapsed": false
   },
   "outputs": [
    {
     "name": "stdout",
     "output_type": "stream",
     "text": [
      "Index(['A_function', 'BRB_function', 'CO0N_function', 'CO0_function',\n",
      "       'CO1N_function', 'CO1_function', 'CON_function', 'CO_function',\n",
      "       'ICO_function', 'PP_function', 'QN_function', 'Q_function',\n",
      "       'S_function', 'X2_function', 'Y_function', 'cell_footprint',\n",
      "       'gate_name'],\n",
      "      dtype='object')\n"
     ]
    }
   ],
   "source": [
    "# Select columns with dtype 'object', which are typically strings\n",
    "string_columns = df.select_dtypes(include=['object']).columns\n",
    "\n",
    "# Print the names of these columns\n",
    "print(string_columns)"
   ]
  },
  {
   "cell_type": "markdown",
   "id": "b62c76ddce0a2196",
   "metadata": {
    "collapsed": false
   },
   "source": [
    "## Feature Engineering - Scaling Numerical Features"
   ]
  },
  {
   "cell_type": "code",
   "execution_count": 52,
   "id": "ba1bcee0170679cd",
   "metadata": {
    "ExecuteTime": {
     "end_time": "2024-01-23T14:32:32.366742471Z",
     "start_time": "2024-01-23T14:32:32.362652005Z"
    },
    "collapsed": false
   },
   "outputs": [
    {
     "name": "stdout",
     "output_type": "stream",
     "text": [
      "Numerical columns: Index(['A0N_capacitance', 'A0N_direction', 'A0_capacitance', 'A0_direction',\n",
      "       'A1N_capacitance', 'A1N_direction', 'A1_capacitance', 'A1_direction',\n",
      "       'A2_capacitance', 'A2_direction',\n",
      "       ...\n",
      "       'X2_direction', 'X2_max_capacitance', 'X2_number_of_gates',\n",
      "       'Y_capacitance', 'Y_direction', 'Y_max_capacitance',\n",
      "       'Y_number_of_gates', 'area', 'cell_leakage_power',\n",
      "       'total_number_of_gates_in_block'],\n",
      "      dtype='object', length=164)\n"
     ]
    }
   ],
   "source": [
    "# Identify numerical columns (assuming columns with dtype 'object' are non-numeric)\n",
    "numerical_columns = df.select_dtypes([np.number]).columns\n",
    "print(\"Numerical columns:\", numerical_columns)"
   ]
  },
  {
   "cell_type": "code",
   "execution_count": 53,
   "id": "e91baaf0acb82f18",
   "metadata": {
    "ExecuteTime": {
     "end_time": "2024-01-23T14:32:33.528478162Z",
     "start_time": "2024-01-23T14:32:33.510661755Z"
    },
    "collapsed": false
   },
   "outputs": [],
   "source": [
    "# Initialize Min-Max Scaler\n",
    "scaler = MinMaxScaler()\n",
    "\n",
    "# Scale the numerical columns\n",
    "df[numerical_columns] = scaler.fit_transform(df[numerical_columns])"
   ]
  },
  {
   "cell_type": "code",
   "execution_count": 54,
   "id": "e078f71e20b58037",
   "metadata": {
    "ExecuteTime": {
     "end_time": "2024-01-23T14:32:35.922035022Z",
     "start_time": "2024-01-23T14:32:35.911764101Z"
    },
    "collapsed": false
   },
   "outputs": [
    {
     "data": {
      "text/html": [
       "<div>\n",
       "<style scoped>\n",
       "    .dataframe tbody tr th:only-of-type {\n",
       "        vertical-align: middle;\n",
       "    }\n",
       "\n",
       "    .dataframe tbody tr th {\n",
       "        vertical-align: top;\n",
       "    }\n",
       "\n",
       "    .dataframe thead th {\n",
       "        text-align: right;\n",
       "    }\n",
       "</style>\n",
       "<table border=\"1\" class=\"dataframe\">\n",
       "  <thead>\n",
       "    <tr style=\"text-align: right;\">\n",
       "      <th></th>\n",
       "      <th>A0N_capacitance</th>\n",
       "      <th>A0N_direction</th>\n",
       "      <th>A0_capacitance</th>\n",
       "      <th>A0_direction</th>\n",
       "      <th>A1N_capacitance</th>\n",
       "      <th>A1N_direction</th>\n",
       "      <th>A1_capacitance</th>\n",
       "      <th>A1_direction</th>\n",
       "      <th>A2_capacitance</th>\n",
       "      <th>A2_direction</th>\n",
       "      <th>...</th>\n",
       "      <th>Y_capacitance</th>\n",
       "      <th>Y_direction</th>\n",
       "      <th>Y_function</th>\n",
       "      <th>Y_max_capacitance</th>\n",
       "      <th>Y_number_of_gates</th>\n",
       "      <th>area</th>\n",
       "      <th>cell_footprint</th>\n",
       "      <th>cell_leakage_power</th>\n",
       "      <th>gate_name</th>\n",
       "      <th>total_number_of_gates_in_block</th>\n",
       "    </tr>\n",
       "  </thead>\n",
       "  <tbody>\n",
       "    <tr>\n",
       "      <th>0</th>\n",
       "      <td>0.0</td>\n",
       "      <td>0.0</td>\n",
       "      <td>0.0</td>\n",
       "      <td>0.0</td>\n",
       "      <td>0.0</td>\n",
       "      <td>0.0</td>\n",
       "      <td>0.0</td>\n",
       "      <td>0.0</td>\n",
       "      <td>0.0</td>\n",
       "      <td>0.0</td>\n",
       "      <td>...</td>\n",
       "      <td>0.0</td>\n",
       "      <td>0.0</td>\n",
       "      <td>0.0</td>\n",
       "      <td>0.0</td>\n",
       "      <td>0.0</td>\n",
       "      <td>0.377049</td>\n",
       "      <td>addfh</td>\n",
       "      <td>0.291273</td>\n",
       "      <td>ADDFHX1</td>\n",
       "      <td>0.333333</td>\n",
       "    </tr>\n",
       "    <tr>\n",
       "      <th>1</th>\n",
       "      <td>0.0</td>\n",
       "      <td>0.0</td>\n",
       "      <td>0.0</td>\n",
       "      <td>0.0</td>\n",
       "      <td>0.0</td>\n",
       "      <td>0.0</td>\n",
       "      <td>0.0</td>\n",
       "      <td>0.0</td>\n",
       "      <td>0.0</td>\n",
       "      <td>0.0</td>\n",
       "      <td>...</td>\n",
       "      <td>0.0</td>\n",
       "      <td>0.0</td>\n",
       "      <td>0.0</td>\n",
       "      <td>0.0</td>\n",
       "      <td>0.0</td>\n",
       "      <td>0.557377</td>\n",
       "      <td>addfh</td>\n",
       "      <td>0.533900</td>\n",
       "      <td>ADDFHX2</td>\n",
       "      <td>0.333333</td>\n",
       "    </tr>\n",
       "    <tr>\n",
       "      <th>2</th>\n",
       "      <td>0.0</td>\n",
       "      <td>0.0</td>\n",
       "      <td>0.0</td>\n",
       "      <td>0.0</td>\n",
       "      <td>0.0</td>\n",
       "      <td>0.0</td>\n",
       "      <td>0.0</td>\n",
       "      <td>0.0</td>\n",
       "      <td>0.0</td>\n",
       "      <td>0.0</td>\n",
       "      <td>...</td>\n",
       "      <td>0.0</td>\n",
       "      <td>0.0</td>\n",
       "      <td>0.0</td>\n",
       "      <td>0.0</td>\n",
       "      <td>0.0</td>\n",
       "      <td>0.573770</td>\n",
       "      <td>addfh</td>\n",
       "      <td>0.570366</td>\n",
       "      <td>ADDFHX4</td>\n",
       "      <td>0.333333</td>\n",
       "    </tr>\n",
       "    <tr>\n",
       "      <th>3</th>\n",
       "      <td>0.0</td>\n",
       "      <td>0.0</td>\n",
       "      <td>0.0</td>\n",
       "      <td>0.0</td>\n",
       "      <td>0.0</td>\n",
       "      <td>0.0</td>\n",
       "      <td>0.0</td>\n",
       "      <td>0.0</td>\n",
       "      <td>0.0</td>\n",
       "      <td>0.0</td>\n",
       "      <td>...</td>\n",
       "      <td>0.0</td>\n",
       "      <td>0.0</td>\n",
       "      <td>0.0</td>\n",
       "      <td>0.0</td>\n",
       "      <td>0.0</td>\n",
       "      <td>0.360656</td>\n",
       "      <td>addfh</td>\n",
       "      <td>0.241225</td>\n",
       "      <td>ADDFHXL</td>\n",
       "      <td>0.333333</td>\n",
       "    </tr>\n",
       "    <tr>\n",
       "      <th>4</th>\n",
       "      <td>0.0</td>\n",
       "      <td>0.0</td>\n",
       "      <td>0.0</td>\n",
       "      <td>0.0</td>\n",
       "      <td>0.0</td>\n",
       "      <td>0.0</td>\n",
       "      <td>0.0</td>\n",
       "      <td>0.0</td>\n",
       "      <td>0.0</td>\n",
       "      <td>0.0</td>\n",
       "      <td>...</td>\n",
       "      <td>0.0</td>\n",
       "      <td>0.0</td>\n",
       "      <td>0.0</td>\n",
       "      <td>0.0</td>\n",
       "      <td>0.0</td>\n",
       "      <td>0.344262</td>\n",
       "      <td>addf</td>\n",
       "      <td>0.257788</td>\n",
       "      <td>ADDFX1</td>\n",
       "      <td>0.333333</td>\n",
       "    </tr>\n",
       "  </tbody>\n",
       "</table>\n",
       "<p>5 rows × 181 columns</p>\n",
       "</div>"
      ],
      "text/plain": [
       "   A0N_capacitance  A0N_direction  A0_capacitance  A0_direction  \\\n",
       "0              0.0            0.0             0.0           0.0   \n",
       "1              0.0            0.0             0.0           0.0   \n",
       "2              0.0            0.0             0.0           0.0   \n",
       "3              0.0            0.0             0.0           0.0   \n",
       "4              0.0            0.0             0.0           0.0   \n",
       "\n",
       "   A1N_capacitance  A1N_direction  A1_capacitance  A1_direction  \\\n",
       "0              0.0            0.0             0.0           0.0   \n",
       "1              0.0            0.0             0.0           0.0   \n",
       "2              0.0            0.0             0.0           0.0   \n",
       "3              0.0            0.0             0.0           0.0   \n",
       "4              0.0            0.0             0.0           0.0   \n",
       "\n",
       "   A2_capacitance  A2_direction  ...  Y_capacitance  Y_direction  Y_function  \\\n",
       "0             0.0           0.0  ...            0.0          0.0         0.0   \n",
       "1             0.0           0.0  ...            0.0          0.0         0.0   \n",
       "2             0.0           0.0  ...            0.0          0.0         0.0   \n",
       "3             0.0           0.0  ...            0.0          0.0         0.0   \n",
       "4             0.0           0.0  ...            0.0          0.0         0.0   \n",
       "\n",
       "   Y_max_capacitance Y_number_of_gates      area  cell_footprint  \\\n",
       "0                0.0               0.0  0.377049           addfh   \n",
       "1                0.0               0.0  0.557377           addfh   \n",
       "2                0.0               0.0  0.573770           addfh   \n",
       "3                0.0               0.0  0.360656           addfh   \n",
       "4                0.0               0.0  0.344262            addf   \n",
       "\n",
       "   cell_leakage_power  gate_name  total_number_of_gates_in_block  \n",
       "0            0.291273    ADDFHX1                        0.333333  \n",
       "1            0.533900    ADDFHX2                        0.333333  \n",
       "2            0.570366    ADDFHX4                        0.333333  \n",
       "3            0.241225    ADDFHXL                        0.333333  \n",
       "4            0.257788     ADDFX1                        0.333333  \n",
       "\n",
       "[5 rows x 181 columns]"
      ]
     },
     "execution_count": 54,
     "metadata": {},
     "output_type": "execute_result"
    }
   ],
   "source": [
    "df.head()"
   ]
  },
  {
   "cell_type": "markdown",
   "id": "f4d19388001ae504",
   "metadata": {
    "collapsed": false
   },
   "source": [
    "## Saving Dataframe as a CSV File"
   ]
  },
  {
   "cell_type": "code",
   "execution_count": 55,
   "id": "bcdf9402ae396d80",
   "metadata": {
    "ExecuteTime": {
     "end_time": "2024-01-23T14:46:38.895495219Z",
     "start_time": "2024-01-23T14:46:38.878184724Z"
    },
    "collapsed": false
   },
   "outputs": [],
   "source": [
    "# Removing columns that contain the function\n",
    "df = df.drop(columns = column_names_that_contain_function_names, axis=1)\n",
    "df.head()\n",
    "\n",
    "\n",
    "\n",
    "# Bringing gate name at the beginning \n",
    "\n",
    "column_order = ['gate_name'] + [col for col in df.columns if col != 'gate_name']\n",
    "\n",
    "# Reorder the columns\n",
    "df = df[column_order]"
   ]
  },
  {
   "cell_type": "code",
   "execution_count": 57,
   "id": "46bcfb0078e34133",
   "metadata": {
    "ExecuteTime": {
     "end_time": "2024-01-23T14:47:01.440249630Z",
     "start_time": "2024-01-23T14:47:01.430586210Z"
    },
    "collapsed": false
   },
   "outputs": [],
   "source": [
    "df.to_excel(preprocessed_node_features_csv_file, index=False) "
   ]
  },
  {
   "cell_type": "code",
   "execution_count": null,
   "id": "d921d8bf56bc4bb4",
   "metadata": {
    "ExecuteTime": {
     "end_time": "2024-01-23T14:32:37.793607083Z",
     "start_time": "2024-01-23T14:32:37.781011957Z"
    },
    "collapsed": false
   },
   "outputs": [],
   "source": [
    "# # Select columns with dtype 'object', which are typically strings\n",
    "# string_columns = df.select_dtypes(include=['object']).columns\n",
    "# \n",
    "# # Print the names of these columns\n",
    "# print(string_columns)"
   ]
  },
  {
   "cell_type": "code",
   "execution_count": null,
   "id": "9815ea25211b8d3",
   "metadata": {
    "ExecuteTime": {
     "end_time": "2024-01-23T14:12:22.512568706Z",
     "start_time": "2024-01-23T14:12:22.419017599Z"
    },
    "collapsed": false
   },
   "outputs": [],
   "source": [
    "# from sentence_transformers import SentenceTransformer, util\n",
    "# model = SentenceTransformer('msmarco-distilbert-dot-v5')\n",
    "# \n",
    "# query_embedding = model.encode('A | B ^ C | D')\n",
    "# passage_embedding = model.encode(['B | A ^ C'])\n",
    "# \n",
    "# print(\"Similarity:\", util.dot_score(query_embedding, passage_embedding))"
   ]
  },
  {
   "cell_type": "code",
   "execution_count": null,
   "id": "b37a9b286622c362",
   "metadata": {
    "collapsed": false
   },
   "outputs": [],
   "source": []
  },
  {
   "cell_type": "code",
   "outputs": [
    {
     "name": "stdout",
     "output_type": "stream",
     "text": [
      "[20, 2.2, 'B']\n"
     ]
    }
   ],
   "source": [
    "import pandas as pd\n",
    "\n",
    "# Sample DataFrame\n",
    "df = pd.DataFrame({\n",
    "    'gate_name': ['gate1', 'gate2', 'gate3', 'gate4'],\n",
    "    'feature1': [10, 20, 30, 40],\n",
    "    'feature2': [1.1, 2.2, 3.3, 4.4],\n",
    "    'feature3' : ['A', 'B', 'C', 'D']\n",
    "})\n",
    "\n",
    "# The specific gate name you're looking for\n",
    "specific_gate_name = 'gate2'\n",
    "\n",
    "# Get the row where 'gate_name' equals the specific gate name\n",
    "specific_row = df.loc[df['gate_name'] == specific_gate_name]\n",
    "\n",
    "# Convert the row to a list, excluding the index and column names\n",
    "row_as_list = specific_row.values.tolist()[0][1:]  # We use [0] to get the first (and only) item\n",
    "\n",
    "print(row_as_list)\n"
   ],
   "metadata": {
    "collapsed": false,
    "ExecuteTime": {
     "end_time": "2024-01-23T23:06:22.955634170Z",
     "start_time": "2024-01-23T23:06:22.952756664Z"
    }
   },
   "id": "4451b5ca01cf7223",
   "execution_count": 4
  },
  {
   "cell_type": "code",
   "outputs": [],
   "source": [],
   "metadata": {
    "collapsed": false
   },
   "id": "db580711fb761a5c"
  }
 ],
 "metadata": {
  "kernelspec": {
   "display_name": "rtl_to_graph",
   "language": "python",
   "name": "rtl_to_graph"
  },
  "language_info": {
   "codemirror_mode": {
    "name": "ipython",
    "version": 3
   },
   "file_extension": ".py",
   "mimetype": "text/x-python",
   "name": "python",
   "nbconvert_exporter": "python",
   "pygments_lexer": "ipython3",
   "version": "3.10.13"
  }
 },
 "nbformat": 4,
 "nbformat_minor": 5
}
