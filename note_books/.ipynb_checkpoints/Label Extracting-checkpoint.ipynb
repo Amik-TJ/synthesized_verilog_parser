{
 "cells": [
  {
   "cell_type": "code",
   "execution_count": 72,
   "id": "b4d32174-7676-4dfc-8f7c-1590836eb78b",
   "metadata": {},
   "outputs": [
    {
     "data": {
      "text/plain": [
       "'C:\\\\Users\\\\Amik\\\\research\\\\rtl_synthesis\\\\synthesized_verilog_parser\\\\note_books'"
      ]
     },
     "execution_count": 72,
     "metadata": {},
     "output_type": "execute_result"
    }
   ],
   "source": [
    "import sys\n",
    "%pwd"
   ]
  },
  {
   "cell_type": "code",
   "execution_count": 73,
   "id": "8de8cf44",
   "metadata": {},
   "outputs": [],
   "source": [
    "tempus_log_file_directory = r\"C:\\Users\\Amik\\research\\rtl_synthesis\\synthesized_verilog_parser\\data\\verilogs\\1_bit_adder_reg_to_reg\\tempus.log\"\n",
    "\n",
    "\n"
   ]
  },
  {
   "cell_type": "code",
   "execution_count": 74,
   "id": "7f4d0de3-594d-4073-b58c-e4f3ced6d500",
   "metadata": {},
   "outputs": [
    {
     "name": "stdout",
     "output_type": "stream",
     "text": [
      "['carry_out_reg', 'CK', '^', '-', '-', '0.000', '-0.326']\n",
      "['carry_out_reg', 'CK', '^', '->', 'Q', '^', 'DFFRHQX1', '0.326', '0.326', '0.000']\n",
      "['-', 'carry_out', '^', '-', '0.000', '0.326', '0.000']\n",
      "['A_reg_reg', 'CK', '^', '-', '-', '0.000', '0.079']\n",
      "['A_reg_reg', 'CK', '^', '->', 'Q', 'v', 'DFFRHQX1', '0.290', '0.290', '0.369']\n",
      "['g33', 'A', 'v', '->', 'S', 'v', 'ADDHXL', '0.255', '0.546', '0.625']\n",
      "['sum_out_reg', 'D', 'v', 'DFFRHQX1', '0.000', '0.546', '0.625']\n",
      "['A_reg_reg', 'CK', '^', '-', '-', '0.000', '0.179']\n",
      "['A_reg_reg', 'CK', '^', '->', 'Q', 'v', 'DFFRHQX1', '0.290', '0.290', '0.469']\n",
      "['g33', 'A', 'v', '->', 'CO', 'v', 'ADDHXL', '0.173', '0.463', '0.642']\n",
      "['carry_out_reg', 'D', 'v', 'DFFRHQX1', '0.000', '0.463', '0.642']\n"
     ]
    },
    {
     "ename": "IndexError",
     "evalue": "list index out of range",
     "output_type": "error",
     "traceback": [
      "\u001b[1;31m---------------------------------------------------------------------------\u001b[0m",
      "\u001b[1;31mIndexError\u001b[0m                                Traceback (most recent call last)",
      "Cell \u001b[1;32mIn[74], line 52\u001b[0m\n\u001b[0;32m     47\u001b[0m                     \u001b[38;5;28;01mif\u001b[39;00m \u001b[38;5;28mlen\u001b[39m(first_word) \u001b[38;5;241m>\u001b[39m \u001b[38;5;241m1\u001b[39m:\n\u001b[0;32m     48\u001b[0m                         \u001b[38;5;28mprint\u001b[39m(first_word)\n\u001b[1;32m---> 52\u001b[0m \u001b[43msta_label_parser\u001b[49m\u001b[43m(\u001b[49m\u001b[43mtempus_log_file_directory\u001b[49m\u001b[43m)\u001b[49m\n",
      "Cell \u001b[1;32mIn[74], line 41\u001b[0m, in \u001b[0;36msta_label_parser\u001b[1;34m(tempus_log_file_directory)\u001b[0m\n\u001b[0;32m     33\u001b[0m         \u001b[38;5;66;03m#for content_chunk in content_chunks:\u001b[39;00m\n\u001b[0;32m     34\u001b[0m             \u001b[38;5;66;03m# print('+++++++++++++++++++++++Printing content_chunk+++++++++++++++++++++++++++++++')\u001b[39;00m\n\u001b[0;32m     35\u001b[0m             \u001b[38;5;66;03m# print(content_chunk)\u001b[39;00m\n\u001b[0;32m     36\u001b[0m             \u001b[38;5;66;03m# print('||||||||||||||||||||||||||||||||||||||||||||||||||||||')\u001b[39;00m\n\u001b[0;32m     37\u001b[0m         \u001b[38;5;28;01mif\u001b[39;00m \u001b[38;5;28mlen\u001b[39m(content_chunks) \u001b[38;5;241m>\u001b[39m \u001b[38;5;241m1\u001b[39m:\n\u001b[0;32m     38\u001b[0m             \u001b[38;5;66;03m#print('-------------------------- content_chunks[2] --------------------------')\u001b[39;00m\n\u001b[0;32m     39\u001b[0m             \u001b[38;5;66;03m#print(content_chunks[2])\u001b[39;00m\n\u001b[0;32m     40\u001b[0m             \u001b[38;5;66;03m#print('------------------------------------------------------------------------------')\u001b[39;00m\n\u001b[1;32m---> 41\u001b[0m             lines \u001b[38;5;241m=\u001b[39m \u001b[43mcontent_chunks\u001b[49m\u001b[43m[\u001b[49m\u001b[38;5;241;43m2\u001b[39;49m\u001b[43m]\u001b[49m\u001b[38;5;241m.\u001b[39msplit(\u001b[38;5;124m'\u001b[39m\u001b[38;5;130;01m\\n\u001b[39;00m\u001b[38;5;124m'\u001b[39m)\n\u001b[0;32m     42\u001b[0m \u001b[38;5;66;03m#             print(lines)\u001b[39;00m\n\u001b[0;32m     43\u001b[0m             \u001b[38;5;28;01mfor\u001b[39;00m line \u001b[38;5;129;01min\u001b[39;00m lines:\n\u001b[0;32m     44\u001b[0m                 \u001b[38;5;66;03m# Extract the first word\u001b[39;00m\n",
      "\u001b[1;31mIndexError\u001b[0m: list index out of range"
     ]
    }
   ],
   "source": [
    "import sys\n",
    "import os\n",
    "import re\n",
    "import json\n",
    "\n",
    "\n",
    "def read_tempus_log(tempus_log_file_directory):\n",
    "    # Check if the file exists\n",
    "    if not os.path.isfile(tempus_log_file_directory):\n",
    "        raise FileNotFoundError(f\"The file '{tempus_log_file_directory}' does not exist.\")\n",
    "\n",
    "    # Read the file\n",
    "    with open(tempus_log_file_directory, 'r') as file:\n",
    "        content = file.read()\n",
    "        return content\n",
    "\n",
    "\n",
    "def sta_label_parser(tempus_log_file_directory):\n",
    "    tempus_log_content = read_tempus_log(tempus_log_file_directory)\n",
    "\n",
    "    paths = {}\n",
    "    \n",
    "    # Split content by \"Path n:\"\n",
    "    path_chunks = re.split(r'Path \\d+:', tempus_log_content)[1:]\n",
    "\n",
    "    for i, chunk in enumerate(path_chunks, 1):\n",
    "        \n",
    "        # Further chunk by 10 dashes\n",
    "        content_chunks = re.split(r'-{10,}', chunk)\n",
    "        \n",
    "        \n",
    "        \n",
    "        #for content_chunk in content_chunks:\n",
    "            # print('+++++++++++++++++++++++Printing content_chunk+++++++++++++++++++++++++++++++')\n",
    "            # print(content_chunk)\n",
    "            # print('||||||||||||||||||||||||||||||||||||||||||||||||||||||')\n",
    "        if len(content_chunks) > 2:\n",
    "            #print('-------------------------- content_chunks[2] --------------------------')\n",
    "            #print(content_chunks[2])\n",
    "            #print('------------------------------------------------------------------------------')\n",
    "            lines = content_chunks[2].split('\\n')\n",
    "#             print(lines)\n",
    "            for line in lines:\n",
    "                # Extract the first word\n",
    "                if len(line):\n",
    "                    first_word = line.split()\n",
    "                    if len(first_word) > 1:\n",
    "                        print(first_word)\n",
    "\n",
    "\n",
    "\n",
    "sta_label_parser(tempus_log_file_directory)"
   ]
  },
  {
   "cell_type": "code",
   "execution_count": null,
   "id": "67db1541",
   "metadata": {},
   "outputs": [],
   "source": [
    "line = 'sta_label_parser  tempu s_ log _ file_ directory )'\n",
    "\n",
    "first_word = line.split()\n",
    "print(first_word)"
   ]
  },
  {
   "cell_type": "code",
   "execution_count": null,
   "id": "f6de2bf0",
   "metadata": {},
   "outputs": [],
   "source": []
  }
 ],
 "metadata": {
  "kernelspec": {
   "display_name": "rtl_to_graph",
   "language": "python",
   "name": "rtl_to_graph"
  },
  "language_info": {
   "codemirror_mode": {
    "name": "ipython",
    "version": 3
   },
   "file_extension": ".py",
   "mimetype": "text/x-python",
   "name": "python",
   "nbconvert_exporter": "python",
   "pygments_lexer": "ipython3",
   "version": "3.8.17"
  }
 },
 "nbformat": 4,
 "nbformat_minor": 5
}
