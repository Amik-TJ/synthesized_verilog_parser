{
 "cells": [
  {
   "cell_type": "code",
   "execution_count": 3,
   "metadata": {
    "collapsed": true
   },
   "outputs": [
    {
     "name": "stdout",
     "output_type": "stream",
     "text": [
      "['DFFRHQX1', '\\\\sum_out_reg[0](.RN(n_12),', '.CK(clk),', '.D(n_7),', '.Q(sum_out[0]))']\n",
      "gate_type: DFFRHQX1\n",
      "gate: \\sum_out_reg[0](.RN(n_12),\n",
      "inputs: []\n",
      "output: None\n"
     ]
    }
   ],
   "source": [
    "import re\n",
    "\n",
    "# Sample input line\n",
    "line = \"DFFRHQX1 \\\\sum_out_reg[0](.RN(n_12), .CK(clk), .D(n_7), .Q(sum_out[0]))\"\n",
    "\n",
    "# Split the line into words using whitespace as the delimiter\n",
    "words = line.split()\n",
    "\n",
    "print(words)\n",
    "# Extract gate_type (first word) and gate (second word)\n",
    "gate_type = words[0]\n",
    "gate = words[1]\n",
    "\n",
    "# Use regex to extract the contents inside the outermost brackets\n",
    "contents = re.search(r'\\((.*?)\\)', line).group(1)\n",
    "\n",
    "# Use regex to find all inputs and the last one as output\n",
    "input_output_pairs = re.findall(r'\\.([^\\s\\(]+)\\s*\\(([^)]+)\\)', contents)\n",
    "\n",
    "inputs = []\n",
    "output = None\n",
    "\n",
    "for input_name, input_value in input_output_pairs:\n",
    "    if input_name == \"Q\":\n",
    "        output = input_value  # Set the output value\n",
    "    else:\n",
    "        inputs.append(input_value)  # Add input values to the list\n",
    "\n",
    "print(\"gate_type:\", gate_type)\n",
    "print(\"gate:\", gate)\n",
    "print(\"inputs:\", inputs)\n",
    "print(\"output:\", output)\n"
   ]
  },
  {
   "cell_type": "code",
   "execution_count": null,
   "outputs": [],
   "source": [],
   "metadata": {
    "collapsed": false
   }
  }
 ],
 "metadata": {
  "kernelspec": {
   "display_name": "Python 3",
   "language": "python",
   "name": "python3"
  },
  "language_info": {
   "codemirror_mode": {
    "name": "ipython",
    "version": 2
   },
   "file_extension": ".py",
   "mimetype": "text/x-python",
   "name": "python",
   "nbconvert_exporter": "python",
   "pygments_lexer": "ipython2",
   "version": "2.7.6"
  }
 },
 "nbformat": 4,
 "nbformat_minor": 0
}
