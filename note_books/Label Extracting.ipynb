{
 "cells": [
  {
   "cell_type": "code",
   "execution_count": 4,
   "id": "b4d32174-7676-4dfc-8f7c-1590836eb78b",
   "metadata": {},
   "outputs": [
    {
     "data": {
      "text/plain": [
       "'C:\\\\Users\\\\Amik\\\\research\\\\rtl_synthesis\\\\synthesized_verilog_parser\\\\note_books'"
      ]
     },
     "execution_count": 4,
     "metadata": {},
     "output_type": "execute_result"
    }
   ],
   "source": [
    "import sys\n",
    "%pwd"
   ]
  },
  {
   "cell_type": "code",
   "execution_count": 5,
   "id": "8de8cf44",
   "metadata": {},
   "outputs": [],
   "source": [
    "tempus_log_file_directory = r\"C:\\Users\\Amik\\research\\rtl_synthesis\\synthesized_verilog_parser\\data\\verilogs\\1_bit_adder_reg_to_reg\\tempus.log\"\n",
    "\n",
    "\n"
   ]
  },
  {
   "cell_type": "code",
   "execution_count": 6,
   "id": "7f4d0de3-594d-4073-b58c-e4f3ced6d500",
   "metadata": {},
   "outputs": [
    {
     "name": "stdout",
     "output_type": "stream",
     "text": [
      "['carry_out_reg']\n",
      "['g33', 'sum_out_reg', 'A_reg_reg']\n",
      "['g33', 'carry_out_reg', 'A_reg_reg']\n"
     ]
    }
   ],
   "source": [
    "import sys\n",
    "import os\n",
    "import re\n",
    "import json\n",
    "\n",
    "def read_tempus_log(tempus_log_file_directory):\n",
    "    # Check if the file exists\n",
    "    if not os.path.isfile(tempus_log_file_directory):\n",
    "        raise FileNotFoundError(f\"The file '{tempus_log_file_directory}' does not exist.\")\n",
    "\n",
    "    # Read the file\n",
    "    with open(tempus_log_file_directory, 'r') as file:\n",
    "        content = file.read()\n",
    "        return content\n",
    "\n",
    "def sta_label_parser(tempus_log_file_directory):\n",
    "    # Read the content of the Tempus log file\n",
    "    tempus_log_content = read_tempus_log(tempus_log_file_directory)\n",
    "\n",
    "    # List to store all paths\n",
    "    all_paths = []\n",
    "\n",
    "    # Split content by \"Path n:\"\n",
    "    path_chunks = re.split(r'Path \\d+:', tempus_log_content)[1:]\n",
    "\n",
    "    \n",
    "    # Looping through the path chunks\n",
    "    for i, chunk in enumerate(path_chunks, 1):\n",
    "        # Further chunk by 10 dashes\n",
    "        content_chunks = re.split(r'-{10,}', chunk)\n",
    "        \n",
    "        if len(content_chunks) > 2:\n",
    "            # Split lines in the content chunk\n",
    "            lines = content_chunks[2].split('\\n')\n",
    "            \n",
    "            path = []\n",
    "            \n",
    "            # Looping through the items in the path.\n",
    "            for line in lines:\n",
    "                # Extract the first word\n",
    "                if len(line):\n",
    "                    first_word = line.split()\n",
    "                    if len(first_word) > 1 and first_word[0] != '-':\n",
    "                        path.append(first_word[0])\n",
    "            \n",
    "            path = list(set(path))\n",
    "            print(path)\n",
    "            # Print and store the path\n",
    "            all_paths.append(path)\n",
    "            \n",
    "    return all_paths\n",
    "            \n",
    "\n",
    "# Call the function with the file directory\n",
    "all_paths = sta_label_parser(tempus_log_file_directory)\n",
    "# print(all_paths)"
   ]
  },
  {
   "cell_type": "code",
   "execution_count": null,
   "id": "f6de2bf0",
   "metadata": {},
   "outputs": [],
   "source": []
  }
 ],
 "metadata": {
  "kernelspec": {
   "display_name": "rtl_to_graph",
   "language": "python",
   "name": "rtl_to_graph"
  },
  "language_info": {
   "codemirror_mode": {
    "name": "ipython",
    "version": 3
   },
   "file_extension": ".py",
   "mimetype": "text/x-python",
   "name": "python",
   "nbconvert_exporter": "python",
   "pygments_lexer": "ipython3",
   "version": "3.8.17"
  }
 },
 "nbformat": 4,
 "nbformat_minor": 5
}
